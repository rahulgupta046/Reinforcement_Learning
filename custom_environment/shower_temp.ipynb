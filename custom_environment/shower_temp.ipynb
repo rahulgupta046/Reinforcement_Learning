{
 "cells": [
  {
   "cell_type": "code",
   "execution_count": 2,
   "id": "61e4a202",
   "metadata": {},
   "outputs": [
    {
     "name": "stdout",
     "output_type": "stream",
     "text": [
      "Collecting keras-rl2\n",
      "  Downloading keras_rl2-1.0.5-py3-none-any.whl (52 kB)\n",
      "Requirement already satisfied: tensorflow in c:\\users\\rahul\\anaconda3\\envs\\gpu1\\lib\\site-packages (from keras-rl2) (2.1.0)\n",
      "Collecting tensorboard<2.2.0,>=2.1.0\n",
      "  Downloading tensorboard-2.1.1-py3-none-any.whl (3.8 MB)\n",
      "Requirement already satisfied: gast==0.2.2 in c:\\users\\rahul\\anaconda3\\envs\\gpu1\\lib\\site-packages (from tensorflow->keras-rl2) (0.2.2)\n",
      "Collecting scipy==1.4.1\n",
      "  Downloading scipy-1.4.1-cp36-cp36m-win_amd64.whl (30.8 MB)\n",
      "Requirement already satisfied: numpy<2.0,>=1.16.0 in c:\\users\\rahul\\anaconda3\\envs\\gpu1\\lib\\site-packages (from tensorflow->keras-rl2) (1.19.2)\n",
      "Collecting tensorflow-estimator<2.2.0,>=2.1.0rc0\n",
      "  Downloading tensorflow_estimator-2.1.0-py2.py3-none-any.whl (448 kB)\n",
      "Requirement already satisfied: keras-preprocessing>=1.1.0 in c:\\users\\rahul\\anaconda3\\envs\\gpu1\\lib\\site-packages (from tensorflow->keras-rl2) (1.1.2)\n",
      "Requirement already satisfied: opt-einsum>=2.3.2 in c:\\users\\rahul\\anaconda3\\envs\\gpu1\\lib\\site-packages (from tensorflow->keras-rl2) (3.3.0)\n",
      "Requirement already satisfied: astor>=0.6.0 in c:\\users\\rahul\\anaconda3\\envs\\gpu1\\lib\\site-packages (from tensorflow->keras-rl2) (0.8.1)\n",
      "Requirement already satisfied: keras-applications>=1.0.8 in c:\\users\\rahul\\anaconda3\\envs\\gpu1\\lib\\site-packages (from tensorflow->keras-rl2) (1.0.8)\n",
      "Requirement already satisfied: absl-py>=0.7.0 in c:\\users\\rahul\\anaconda3\\envs\\gpu1\\lib\\site-packages (from tensorflow->keras-rl2) (0.12.0)\n",
      "Requirement already satisfied: protobuf>=3.8.0 in c:\\users\\rahul\\anaconda3\\envs\\gpu1\\lib\\site-packages (from tensorflow->keras-rl2) (3.14.0)\n",
      "Requirement already satisfied: six>=1.12.0 in c:\\users\\rahul\\anaconda3\\envs\\gpu1\\lib\\site-packages (from tensorflow->keras-rl2) (1.16.0)\n",
      "Requirement already satisfied: grpcio>=1.8.6 in c:\\users\\rahul\\anaconda3\\envs\\gpu1\\lib\\site-packages (from tensorflow->keras-rl2) (1.36.1)\n",
      "Requirement already satisfied: wheel>=0.26 in c:\\users\\rahul\\anaconda3\\envs\\gpu1\\lib\\site-packages (from tensorflow->keras-rl2) (0.36.2)\n",
      "Requirement already satisfied: google-pasta>=0.1.6 in c:\\users\\rahul\\anaconda3\\envs\\gpu1\\lib\\site-packages (from tensorflow->keras-rl2) (0.2.0)\n",
      "Requirement already satisfied: termcolor>=1.1.0 in c:\\users\\rahul\\anaconda3\\envs\\gpu1\\lib\\site-packages (from tensorflow->keras-rl2) (1.1.0)\n",
      "Requirement already satisfied: wrapt>=1.11.1 in c:\\users\\rahul\\anaconda3\\envs\\gpu1\\lib\\site-packages (from tensorflow->keras-rl2) (1.12.1)\n",
      "Requirement already satisfied: h5py in c:\\users\\rahul\\anaconda3\\envs\\gpu1\\lib\\site-packages (from keras-applications>=1.0.8->tensorflow->keras-rl2) (2.8.0)\n",
      "Requirement already satisfied: google-auth<2,>=1.6.3 in c:\\users\\rahul\\anaconda3\\envs\\gpu1\\lib\\site-packages (from tensorboard<2.2.0,>=2.1.0->tensorflow->keras-rl2) (1.31.0)\n",
      "Requirement already satisfied: setuptools>=41.0.0 in c:\\users\\rahul\\anaconda3\\envs\\gpu1\\lib\\site-packages (from tensorboard<2.2.0,>=2.1.0->tensorflow->keras-rl2) (52.0.0.post20210125)\n",
      "Requirement already satisfied: werkzeug>=0.11.15 in c:\\users\\rahul\\anaconda3\\envs\\gpu1\\lib\\site-packages (from tensorboard<2.2.0,>=2.1.0->tensorflow->keras-rl2) (0.16.1)\n",
      "Requirement already satisfied: requests<3,>=2.21.0 in c:\\users\\rahul\\anaconda3\\envs\\gpu1\\lib\\site-packages (from tensorboard<2.2.0,>=2.1.0->tensorflow->keras-rl2) (2.25.1)\n",
      "Requirement already satisfied: google-auth-oauthlib<0.5,>=0.4.1 in c:\\users\\rahul\\anaconda3\\envs\\gpu1\\lib\\site-packages (from tensorboard<2.2.0,>=2.1.0->tensorflow->keras-rl2) (0.4.4)\n",
      "Requirement already satisfied: markdown>=2.6.8 in c:\\users\\rahul\\anaconda3\\envs\\gpu1\\lib\\site-packages (from tensorboard<2.2.0,>=2.1.0->tensorflow->keras-rl2) (3.3.4)\n",
      "Requirement already satisfied: rsa<5,>=3.1.4 in c:\\users\\rahul\\anaconda3\\envs\\gpu1\\lib\\site-packages (from google-auth<2,>=1.6.3->tensorboard<2.2.0,>=2.1.0->tensorflow->keras-rl2) (4.7.2)\n",
      "Requirement already satisfied: pyasn1-modules>=0.2.1 in c:\\users\\rahul\\anaconda3\\envs\\gpu1\\lib\\site-packages (from google-auth<2,>=1.6.3->tensorboard<2.2.0,>=2.1.0->tensorflow->keras-rl2) (0.2.8)\n",
      "Requirement already satisfied: cachetools<5.0,>=2.0.0 in c:\\users\\rahul\\anaconda3\\envs\\gpu1\\lib\\site-packages (from google-auth<2,>=1.6.3->tensorboard<2.2.0,>=2.1.0->tensorflow->keras-rl2) (4.2.2)\n",
      "Requirement already satisfied: requests-oauthlib>=0.7.0 in c:\\users\\rahul\\anaconda3\\envs\\gpu1\\lib\\site-packages (from google-auth-oauthlib<0.5,>=0.4.1->tensorboard<2.2.0,>=2.1.0->tensorflow->keras-rl2) (1.3.0)\n",
      "Requirement already satisfied: importlib-metadata in c:\\users\\rahul\\anaconda3\\envs\\gpu1\\lib\\site-packages (from markdown>=2.6.8->tensorboard<2.2.0,>=2.1.0->tensorflow->keras-rl2) (3.10.0)\n",
      "Requirement already satisfied: pyasn1<0.5.0,>=0.4.6 in c:\\users\\rahul\\anaconda3\\envs\\gpu1\\lib\\site-packages (from pyasn1-modules>=0.2.1->google-auth<2,>=1.6.3->tensorboard<2.2.0,>=2.1.0->tensorflow->keras-rl2) (0.4.8)\n",
      "Requirement already satisfied: urllib3<1.27,>=1.21.1 in c:\\users\\rahul\\anaconda3\\envs\\gpu1\\lib\\site-packages (from requests<3,>=2.21.0->tensorboard<2.2.0,>=2.1.0->tensorflow->keras-rl2) (1.26.4)\n",
      "Requirement already satisfied: idna<3,>=2.5 in c:\\users\\rahul\\anaconda3\\envs\\gpu1\\lib\\site-packages (from requests<3,>=2.21.0->tensorboard<2.2.0,>=2.1.0->tensorflow->keras-rl2) (2.10)\n",
      "Requirement already satisfied: chardet<5,>=3.0.2 in c:\\users\\rahul\\anaconda3\\envs\\gpu1\\lib\\site-packages (from requests<3,>=2.21.0->tensorboard<2.2.0,>=2.1.0->tensorflow->keras-rl2) (3.0.4)\n",
      "Requirement already satisfied: certifi>=2017.4.17 in c:\\users\\rahul\\anaconda3\\envs\\gpu1\\lib\\site-packages (from requests<3,>=2.21.0->tensorboard<2.2.0,>=2.1.0->tensorflow->keras-rl2) (2021.5.30)\n",
      "Requirement already satisfied: oauthlib>=3.0.0 in c:\\users\\rahul\\anaconda3\\envs\\gpu1\\lib\\site-packages (from requests-oauthlib>=0.7.0->google-auth-oauthlib<0.5,>=0.4.1->tensorboard<2.2.0,>=2.1.0->tensorflow->keras-rl2) (3.1.0)\n",
      "Requirement already satisfied: zipp>=0.5 in c:\\users\\rahul\\anaconda3\\envs\\gpu1\\lib\\site-packages (from importlib-metadata->markdown>=2.6.8->tensorboard<2.2.0,>=2.1.0->tensorflow->keras-rl2) (3.4.1)\n",
      "Requirement already satisfied: typing-extensions>=3.6.4 in c:\\users\\rahul\\anaconda3\\envs\\gpu1\\lib\\site-packages (from importlib-metadata->markdown>=2.6.8->tensorboard<2.2.0,>=2.1.0->tensorflow->keras-rl2) (3.7.4.3)\n",
      "Installing collected packages: tensorflow-estimator, tensorboard, scipy, keras-rl2\n",
      "  Attempting uninstall: tensorflow-estimator\n",
      "    Found existing installation: tensorflow-estimator 2.5.0\n",
      "    Uninstalling tensorflow-estimator-2.5.0:\n",
      "      Successfully uninstalled tensorflow-estimator-2.5.0\n",
      "  Attempting uninstall: tensorboard\n",
      "    Found existing installation: tensorboard 2.4.0\n",
      "    Uninstalling tensorboard-2.4.0:\n",
      "      Successfully uninstalled tensorboard-2.4.0\n",
      "  Attempting uninstall: scipy\n",
      "    Found existing installation: scipy 1.5.2\n",
      "    Uninstalling scipy-1.5.2:\n",
      "      Successfully uninstalled scipy-1.5.2\n",
      "Successfully installed keras-rl2-1.0.5 scipy-1.4.1 tensorboard-2.1.1 tensorflow-estimator-2.1.0\n",
      "Collecting keras-rl2\n",
      "  Using cached keras_rl2-1.0.5-py3-none-any.whl (52 kB)\n",
      "Requirement already satisfied: tensorflow in c:\\users\\rahul\\anaconda3\\envs\\gpu1\\lib\\site-packages (from keras-rl2) (2.1.0)\n",
      "Requirement already satisfied: google-pasta>=0.1.6 in c:\\users\\rahul\\anaconda3\\envs\\gpu1\\lib\\site-packages (from tensorflow->keras-rl2) (0.2.0)\n",
      "Note: you may need to restart the kernel to use updated packages.\n"
     ]
    },
    {
     "name": "stderr",
     "output_type": "stream",
     "text": [
      "WARNING: Error parsing requirements for tensorflow-estimator: [Errno 2] No such file or directory: 'c:\\\\users\\\\rahul\\\\anaconda3\\\\envs\\\\gpu1\\\\lib\\\\site-packages\\\\tensorflow_estimator-2.5.0.dist-info\\\\METADATA'\n",
      "WARNING: Error parsing requirements for tensorboard: [Errno 2] No such file or directory: 'c:\\\\users\\\\rahul\\\\anaconda3\\\\envs\\\\gpu1\\\\lib\\\\site-packages\\\\tensorboard-2.4.0.dist-info\\\\METADATA'\n",
      "WARNING: Error parsing requirements for scipy: [Errno 2] No such file or directory: 'c:\\\\users\\\\rahul\\\\anaconda3\\\\envs\\\\gpu1\\\\lib\\\\site-packages\\\\scipy-1.5.2.dist-info\\\\METADATA'\n"
     ]
    },
    {
     "name": "stdout",
     "output_type": "stream",
     "text": [
      "Requirement already satisfied: wrapt>=1.11.1 in c:\\users\\rahul\\anaconda3\\envs\\gpu1\\lib\\site-packages (from tensorflow->keras-rl2) (1.12.1)\n",
      "Requirement already satisfied: numpy<2.0,>=1.16.0 in c:\\users\\rahul\\anaconda3\\envs\\gpu1\\lib\\site-packages (from tensorflow->keras-rl2) (1.19.2)\n",
      "Collecting tensorboard<2.2.0,>=2.1.0\n",
      "  Using cached tensorboard-2.1.1-py3-none-any.whl (3.8 MB)\n",
      "Requirement already satisfied: opt-einsum>=2.3.2 in c:\\users\\rahul\\anaconda3\\envs\\gpu1\\lib\\site-packages (from tensorflow->keras-rl2) (3.3.0)\n",
      "Requirement already satisfied: wheel>=0.26 in c:\\users\\rahul\\anaconda3\\envs\\gpu1\\lib\\site-packages (from tensorflow->keras-rl2) (0.36.2)\n",
      "Requirement already satisfied: gast==0.2.2 in c:\\users\\rahul\\anaconda3\\envs\\gpu1\\lib\\site-packages (from tensorflow->keras-rl2) (0.2.2)\n",
      "Requirement already satisfied: six>=1.12.0 in c:\\users\\rahul\\anaconda3\\envs\\gpu1\\lib\\site-packages (from tensorflow->keras-rl2) (1.16.0)\n",
      "Requirement already satisfied: absl-py>=0.7.0 in c:\\users\\rahul\\anaconda3\\envs\\gpu1\\lib\\site-packages (from tensorflow->keras-rl2) (0.12.0)\n",
      "Requirement already satisfied: astor>=0.6.0 in c:\\users\\rahul\\anaconda3\\envs\\gpu1\\lib\\site-packages (from tensorflow->keras-rl2) (0.8.1)\n",
      "Requirement already satisfied: grpcio>=1.8.6 in c:\\users\\rahul\\anaconda3\\envs\\gpu1\\lib\\site-packages (from tensorflow->keras-rl2) (1.36.1)\n",
      "Requirement already satisfied: protobuf>=3.8.0 in c:\\users\\rahul\\anaconda3\\envs\\gpu1\\lib\\site-packages (from tensorflow->keras-rl2) (3.14.0)\n",
      "Requirement already satisfied: keras-preprocessing>=1.1.0 in c:\\users\\rahul\\anaconda3\\envs\\gpu1\\lib\\site-packages (from tensorflow->keras-rl2) (1.1.2)\n",
      "Requirement already satisfied: termcolor>=1.1.0 in c:\\users\\rahul\\anaconda3\\envs\\gpu1\\lib\\site-packages (from tensorflow->keras-rl2) (1.1.0)\n",
      "Requirement already satisfied: keras-applications>=1.0.8 in c:\\users\\rahul\\anaconda3\\envs\\gpu1\\lib\\site-packages (from tensorflow->keras-rl2) (1.0.8)\n",
      "Collecting scipy==1.4.1\n",
      "  Downloading scipy-1.4.1-cp36-cp36m-win_amd64.whl (30.8 MB)\n",
      "Collecting tensorflow-estimator<2.2.0,>=2.1.0rc0\n",
      "  Using cached tensorflow_estimator-2.1.0-py2.py3-none-any.whl (448 kB)\n",
      "Requirement already satisfied: h5py in c:\\users\\rahul\\anaconda3\\envs\\gpu1\\lib\\site-packages (from keras-applications>=1.0.8->tensorflow->keras-rl2) (2.8.0)\n",
      "Requirement already satisfied: google-auth<2,>=1.6.3 in c:\\users\\rahul\\anaconda3\\envs\\gpu1\\lib\\site-packages (from tensorboard<2.2.0,>=2.1.0->tensorflow->keras-rl2) (1.31.0)\n",
      "Requirement already satisfied: markdown>=2.6.8 in c:\\users\\rahul\\anaconda3\\envs\\gpu1\\lib\\site-packages (from tensorboard<2.2.0,>=2.1.0->tensorflow->keras-rl2) (3.3.4)\n",
      "Requirement already satisfied: setuptools>=41.0.0 in c:\\users\\rahul\\anaconda3\\envs\\gpu1\\lib\\site-packages (from tensorboard<2.2.0,>=2.1.0->tensorflow->keras-rl2) (52.0.0.post20210125)\n",
      "Requirement already satisfied: google-auth-oauthlib<0.5,>=0.4.1 in c:\\users\\rahul\\anaconda3\\envs\\gpu1\\lib\\site-packages (from tensorboard<2.2.0,>=2.1.0->tensorflow->keras-rl2) (0.4.4)\n",
      "Requirement already satisfied: requests<3,>=2.21.0 in c:\\users\\rahul\\anaconda3\\envs\\gpu1\\lib\\site-packages (from tensorboard<2.2.0,>=2.1.0->tensorflow->keras-rl2) (2.25.1)\n",
      "Requirement already satisfied: werkzeug>=0.11.15 in c:\\users\\rahul\\anaconda3\\envs\\gpu1\\lib\\site-packages (from tensorboard<2.2.0,>=2.1.0->tensorflow->keras-rl2) (0.16.1)\n",
      "Requirement already satisfied: pyasn1-modules>=0.2.1 in c:\\users\\rahul\\anaconda3\\envs\\gpu1\\lib\\site-packages (from google-auth<2,>=1.6.3->tensorboard<2.2.0,>=2.1.0->tensorflow->keras-rl2) (0.2.8)\n",
      "Requirement already satisfied: cachetools<5.0,>=2.0.0 in c:\\users\\rahul\\anaconda3\\envs\\gpu1\\lib\\site-packages (from google-auth<2,>=1.6.3->tensorboard<2.2.0,>=2.1.0->tensorflow->keras-rl2) (4.2.2)\n",
      "Requirement already satisfied: rsa<5,>=3.1.4 in c:\\users\\rahul\\anaconda3\\envs\\gpu1\\lib\\site-packages (from google-auth<2,>=1.6.3->tensorboard<2.2.0,>=2.1.0->tensorflow->keras-rl2) (4.7.2)\n",
      "Requirement already satisfied: requests-oauthlib>=0.7.0 in c:\\users\\rahul\\anaconda3\\envs\\gpu1\\lib\\site-packages (from google-auth-oauthlib<0.5,>=0.4.1->tensorboard<2.2.0,>=2.1.0->tensorflow->keras-rl2) (1.3.0)\n",
      "Requirement already satisfied: importlib-metadata in c:\\users\\rahul\\anaconda3\\envs\\gpu1\\lib\\site-packages (from markdown>=2.6.8->tensorboard<2.2.0,>=2.1.0->tensorflow->keras-rl2) (3.10.0)\n",
      "Requirement already satisfied: pyasn1<0.5.0,>=0.4.6 in c:\\users\\rahul\\anaconda3\\envs\\gpu1\\lib\\site-packages (from pyasn1-modules>=0.2.1->google-auth<2,>=1.6.3->tensorboard<2.2.0,>=2.1.0->tensorflow->keras-rl2) (0.4.8)\n",
      "Requirement already satisfied: idna<3,>=2.5 in c:\\users\\rahul\\anaconda3\\envs\\gpu1\\lib\\site-packages (from requests<3,>=2.21.0->tensorboard<2.2.0,>=2.1.0->tensorflow->keras-rl2) (2.10)\n",
      "Requirement already satisfied: chardet<5,>=3.0.2 in c:\\users\\rahul\\anaconda3\\envs\\gpu1\\lib\\site-packages (from requests<3,>=2.21.0->tensorboard<2.2.0,>=2.1.0->tensorflow->keras-rl2) (3.0.4)\n",
      "Requirement already satisfied: urllib3<1.27,>=1.21.1 in c:\\users\\rahul\\anaconda3\\envs\\gpu1\\lib\\site-packages (from requests<3,>=2.21.0->tensorboard<2.2.0,>=2.1.0->tensorflow->keras-rl2) (1.26.4)\n",
      "Requirement already satisfied: certifi>=2017.4.17 in c:\\users\\rahul\\anaconda3\\envs\\gpu1\\lib\\site-packages (from requests<3,>=2.21.0->tensorboard<2.2.0,>=2.1.0->tensorflow->keras-rl2) (2021.5.30)\n",
      "Requirement already satisfied: oauthlib>=3.0.0 in c:\\users\\rahul\\anaconda3\\envs\\gpu1\\lib\\site-packages (from requests-oauthlib>=0.7.0->google-auth-oauthlib<0.5,>=0.4.1->tensorboard<2.2.0,>=2.1.0->tensorflow->keras-rl2) (3.1.0)\n",
      "Requirement already satisfied: zipp>=0.5 in c:\\users\\rahul\\anaconda3\\envs\\gpu1\\lib\\site-packages (from importlib-metadata->markdown>=2.6.8->tensorboard<2.2.0,>=2.1.0->tensorflow->keras-rl2) (3.4.1)\n",
      "Requirement already satisfied: typing-extensions>=3.6.4 in c:\\users\\rahul\\anaconda3\\envs\\gpu1\\lib\\site-packages (from importlib-metadata->markdown>=2.6.8->tensorboard<2.2.0,>=2.1.0->tensorflow->keras-rl2) (3.7.4.3)\n",
      "Installing collected packages: tensorflow-estimator, tensorboard, scipy, keras-rl2\n",
      "  Attempting uninstall: tensorflow-estimator\n",
      "    Found existing installation: tensorflow-estimator 2.5.0\n",
      "    Can't uninstall 'tensorflow-estimator'. No files were found to uninstall.\n",
      "  Attempting uninstall: tensorboard\n",
      "    Found existing installation: tensorboard 2.4.0\n",
      "    Can't uninstall 'tensorboard'. No files were found to uninstall.\n",
      "  Attempting uninstall: scipy\n",
      "    Found existing installation: scipy 1.5.2\n",
      "    Can't uninstall 'scipy'. No files were found to uninstall.\n",
      "Successfully installed keras-rl2-1.0.5 scipy-1.4.1 tensorboard-2.1.1 tensorflow-estimator-2.1.0\n"
     ]
    }
   ],
   "source": [
    "\n"
   ]
  },
  {
   "cell_type": "code",
   "execution_count": 60,
   "id": "2e36fc51",
   "metadata": {},
   "outputs": [],
   "source": [
    "import gym\n",
    "from gym import Env\n",
    "from gym.spaces import Discrete, Box\n",
    "import numpy as np\n",
    "import random"
   ]
  },
  {
   "cell_type": "code",
   "execution_count": 65,
   "id": "d6a37bb1",
   "metadata": {},
   "outputs": [],
   "source": [
    "class Shower(Env):\n",
    "    def __init__(self):\n",
    "        #for actions down, stay, up\n",
    "        self.action_space = Discrete(3)\n",
    "        #temperature array for range\n",
    "        self.observation_space = Box(low = np.array([0]), high = np.array([100]))\n",
    "        #setting starting temperature\n",
    "        self.state = 38 + random.randint(-3, 3)\n",
    "        #set shower length\n",
    "        self.shower_length = 60\n",
    "        \n",
    "    \n",
    "    \n",
    "        \n",
    "    def step(self, action):\n",
    "        #applying action , 0 => we minus 1 to perform decrease temp by 1 \n",
    "        #1 => we minus 0, to stay at same temp\n",
    "        #2 => we add 1 to increase temp\n",
    "        self.state += action - 1\n",
    "        #reduce shower length by 1\n",
    "        self.shower_length -=1\n",
    "        \n",
    "        #Calculate reward\n",
    "        if self.state >=37 and self.state <= 39:\n",
    "            reward = 10\n",
    "        else:\n",
    "            reward = -1\n",
    "            \n",
    "        #check done\n",
    "        if self.shower_length <=0:\n",
    "            done = True\n",
    "        else:\n",
    "            done = False\n",
    "            \n",
    "        #temp noise\n",
    "#         self.state += random.randint(-.5, .5)\n",
    "        \n",
    "        #define info\n",
    "        info = {}\n",
    "        \n",
    "        #step info\n",
    "        return self.state, reward, done, info\n",
    "    \n",
    "    \n",
    "    def reset(self):\n",
    "        #reset temperature\n",
    "        self.state = 38 + random.randint(-3, 3)\n",
    "        \n",
    "        #reset shower time\n",
    "        self.shower_length = 60\n",
    "        return self.state"
   ]
  },
  {
   "cell_type": "code",
   "execution_count": 66,
   "id": "22ad52c8",
   "metadata": {},
   "outputs": [],
   "source": [
    "env = Shower()"
   ]
  },
  {
   "cell_type": "code",
   "execution_count": 67,
   "id": "7daeb1c9",
   "metadata": {},
   "outputs": [
    {
     "name": "stdout",
     "output_type": "stream",
     "text": [
      "Episode:0 Score:39\n",
      "Episode:1 Score:-16\n",
      "Episode:2 Score:6\n",
      "Episode:3 Score:413\n",
      "Episode:4 Score:116\n",
      "Episode:5 Score:-27\n",
      "Episode:6 Score:281\n",
      "Episode:7 Score:94\n",
      "Episode:8 Score:-49\n",
      "Episode:9 Score:402\n"
     ]
    }
   ],
   "source": [
    "episodes = 10\n",
    "for episode in range(episodes):\n",
    "    state = env.reset()\n",
    "    done = False\n",
    "    score = 0\n",
    "    \n",
    "    while not done:\n",
    "        action = env.action_space.sample()\n",
    "        n_state, reward, done, info = env.step(action)\n",
    "        score += reward\n",
    "    print('Episode:{} Score:{}'.format(episode, score))\n",
    "    "
   ]
  },
  {
   "cell_type": "code",
   "execution_count": 68,
   "id": "185451aa",
   "metadata": {},
   "outputs": [],
   "source": [
    "import keras\n",
    "from keras.models import Sequential\n",
    "from keras.layers import *\n",
    "from keras.optimizers import Adam"
   ]
  },
  {
   "cell_type": "code",
   "execution_count": 69,
   "id": "6582a0d5",
   "metadata": {},
   "outputs": [],
   "source": [
    "states = env.observation_space.shape\n",
    "actions = env.action_space.n\n"
   ]
  },
  {
   "cell_type": "code",
   "execution_count": 70,
   "id": "fefbc978",
   "metadata": {},
   "outputs": [],
   "source": [
    "def build_model(states, actions):\n",
    "    model = Sequential()\n",
    "    model.add(Dense(24, activation = 'relu', input_shape = states))        \n",
    "    model.add(Dense(24, activation = 'relu'))\n",
    "    model.add(Dense(actions, activation = 'linear'))\n",
    "    return model"
   ]
  },
  {
   "cell_type": "code",
   "execution_count": 71,
   "id": "ea1e83fb",
   "metadata": {},
   "outputs": [],
   "source": [
    "del model"
   ]
  },
  {
   "cell_type": "code",
   "execution_count": 72,
   "id": "afe9e932",
   "metadata": {},
   "outputs": [],
   "source": [
    "model = build_model(states, actions)"
   ]
  },
  {
   "cell_type": "code",
   "execution_count": 73,
   "id": "d4650579",
   "metadata": {},
   "outputs": [
    {
     "name": "stdout",
     "output_type": "stream",
     "text": [
      "Model: \"sequential_4\"\n",
      "_________________________________________________________________\n",
      "Layer (type)                 Output Shape              Param #   \n",
      "=================================================================\n",
      "dense_10 (Dense)             (None, 24)                48        \n",
      "_________________________________________________________________\n",
      "dense_11 (Dense)             (None, 24)                600       \n",
      "_________________________________________________________________\n",
      "dense_12 (Dense)             (None, 3)                 75        \n",
      "=================================================================\n",
      "Total params: 723\n",
      "Trainable params: 723\n",
      "Non-trainable params: 0\n",
      "_________________________________________________________________\n"
     ]
    }
   ],
   "source": [
    "model.summary()"
   ]
  },
  {
   "cell_type": "code",
   "execution_count": 74,
   "id": "c429901d",
   "metadata": {},
   "outputs": [],
   "source": [
    "from rl.agents import DQNAgent\n",
    "from rl.policy import BoltzmannQPolicy\n",
    "from rl.memory import SequentialMemory"
   ]
  },
  {
   "cell_type": "code",
   "execution_count": 75,
   "id": "8a982bd7",
   "metadata": {},
   "outputs": [],
   "source": [
    "def build_agent(model, actions):\n",
    "    policy = BoltzmannQPolicy()\n",
    "    memory = SequentialMemory(limit=50000, window_length=1)\n",
    "    dqn = DQNAgent(model=model, memory=memory, policy=policy, \n",
    "                  nb_actions=actions, nb_steps_warmup=10, target_model_update=1e-2)\n",
    "    return dqn"
   ]
  },
  {
   "cell_type": "code",
   "execution_count": 76,
   "id": "9754b0bf",
   "metadata": {},
   "outputs": [
    {
     "ename": "AttributeError",
     "evalue": "'tuple' object has no attribute 'layer'",
     "output_type": "error",
     "traceback": [
      "\u001b[1;31m---------------------------------------------------------------------------\u001b[0m",
      "\u001b[1;31mAttributeError\u001b[0m                            Traceback (most recent call last)",
      "\u001b[1;32m<ipython-input-76-08c9e140f6bc>\u001b[0m in \u001b[0;36m<module>\u001b[1;34m\u001b[0m\n\u001b[0;32m      1\u001b[0m \u001b[0mdqn\u001b[0m \u001b[1;33m=\u001b[0m \u001b[0mbuild_agent\u001b[0m\u001b[1;33m(\u001b[0m\u001b[0mmodel\u001b[0m\u001b[1;33m,\u001b[0m \u001b[0mactions\u001b[0m\u001b[1;33m)\u001b[0m\u001b[1;33m\u001b[0m\u001b[1;33m\u001b[0m\u001b[0m\n\u001b[1;32m----> 2\u001b[1;33m \u001b[0mdqn\u001b[0m\u001b[1;33m.\u001b[0m\u001b[0mcompile\u001b[0m\u001b[1;33m(\u001b[0m\u001b[0mAdam\u001b[0m\u001b[1;33m(\u001b[0m\u001b[0mlr\u001b[0m\u001b[1;33m=\u001b[0m\u001b[1;36m1e-3\u001b[0m\u001b[1;33m)\u001b[0m\u001b[1;33m,\u001b[0m \u001b[0mmetrics\u001b[0m\u001b[1;33m=\u001b[0m\u001b[1;33m[\u001b[0m\u001b[1;34m'mae'\u001b[0m\u001b[1;33m]\u001b[0m\u001b[1;33m)\u001b[0m\u001b[1;33m\u001b[0m\u001b[1;33m\u001b[0m\u001b[0m\n\u001b[0m\u001b[0;32m      3\u001b[0m \u001b[0mdqn\u001b[0m\u001b[1;33m.\u001b[0m\u001b[0mfit\u001b[0m\u001b[1;33m(\u001b[0m\u001b[0menv\u001b[0m\u001b[1;33m,\u001b[0m \u001b[0mnb_steps\u001b[0m\u001b[1;33m=\u001b[0m\u001b[1;36m50000\u001b[0m\u001b[1;33m,\u001b[0m \u001b[0mvisualize\u001b[0m\u001b[1;33m=\u001b[0m\u001b[1;32mFalse\u001b[0m\u001b[1;33m,\u001b[0m \u001b[0mverbose\u001b[0m\u001b[1;33m=\u001b[0m\u001b[1;36m1\u001b[0m\u001b[1;33m)\u001b[0m\u001b[1;33m\u001b[0m\u001b[1;33m\u001b[0m\u001b[0m\n",
      "\u001b[1;32m~\\anaconda3\\envs\\gpu1\\lib\\site-packages\\rl\\agents\\dqn.py\u001b[0m in \u001b[0;36mcompile\u001b[1;34m(self, optimizer, metrics)\u001b[0m\n\u001b[0;32m    188\u001b[0m         \u001b[0my_true\u001b[0m \u001b[1;33m=\u001b[0m \u001b[0mInput\u001b[0m\u001b[1;33m(\u001b[0m\u001b[0mname\u001b[0m\u001b[1;33m=\u001b[0m\u001b[1;34m'y_true'\u001b[0m\u001b[1;33m,\u001b[0m \u001b[0mshape\u001b[0m\u001b[1;33m=\u001b[0m\u001b[1;33m(\u001b[0m\u001b[0mself\u001b[0m\u001b[1;33m.\u001b[0m\u001b[0mnb_actions\u001b[0m\u001b[1;33m,\u001b[0m\u001b[1;33m)\u001b[0m\u001b[1;33m)\u001b[0m\u001b[1;33m\u001b[0m\u001b[1;33m\u001b[0m\u001b[0m\n\u001b[0;32m    189\u001b[0m         \u001b[0mmask\u001b[0m \u001b[1;33m=\u001b[0m \u001b[0mInput\u001b[0m\u001b[1;33m(\u001b[0m\u001b[0mname\u001b[0m\u001b[1;33m=\u001b[0m\u001b[1;34m'mask'\u001b[0m\u001b[1;33m,\u001b[0m \u001b[0mshape\u001b[0m\u001b[1;33m=\u001b[0m\u001b[1;33m(\u001b[0m\u001b[0mself\u001b[0m\u001b[1;33m.\u001b[0m\u001b[0mnb_actions\u001b[0m\u001b[1;33m,\u001b[0m\u001b[1;33m)\u001b[0m\u001b[1;33m)\u001b[0m\u001b[1;33m\u001b[0m\u001b[1;33m\u001b[0m\u001b[0m\n\u001b[1;32m--> 190\u001b[1;33m         \u001b[0mloss_out\u001b[0m \u001b[1;33m=\u001b[0m \u001b[0mLambda\u001b[0m\u001b[1;33m(\u001b[0m\u001b[0mclipped_masked_error\u001b[0m\u001b[1;33m,\u001b[0m \u001b[0moutput_shape\u001b[0m\u001b[1;33m=\u001b[0m\u001b[1;33m(\u001b[0m\u001b[1;36m1\u001b[0m\u001b[1;33m,\u001b[0m\u001b[1;33m)\u001b[0m\u001b[1;33m,\u001b[0m \u001b[0mname\u001b[0m\u001b[1;33m=\u001b[0m\u001b[1;34m'loss'\u001b[0m\u001b[1;33m)\u001b[0m\u001b[1;33m(\u001b[0m\u001b[1;33m[\u001b[0m\u001b[0my_true\u001b[0m\u001b[1;33m,\u001b[0m \u001b[0my_pred\u001b[0m\u001b[1;33m,\u001b[0m \u001b[0mmask\u001b[0m\u001b[1;33m]\u001b[0m\u001b[1;33m)\u001b[0m\u001b[1;33m\u001b[0m\u001b[1;33m\u001b[0m\u001b[0m\n\u001b[0m\u001b[0;32m    191\u001b[0m         \u001b[0mins\u001b[0m \u001b[1;33m=\u001b[0m \u001b[1;33m[\u001b[0m\u001b[0mself\u001b[0m\u001b[1;33m.\u001b[0m\u001b[0mmodel\u001b[0m\u001b[1;33m.\u001b[0m\u001b[0minput\u001b[0m\u001b[1;33m]\u001b[0m \u001b[1;32mif\u001b[0m \u001b[0mtype\u001b[0m\u001b[1;33m(\u001b[0m\u001b[0mself\u001b[0m\u001b[1;33m.\u001b[0m\u001b[0mmodel\u001b[0m\u001b[1;33m.\u001b[0m\u001b[0minput\u001b[0m\u001b[1;33m)\u001b[0m \u001b[1;32mis\u001b[0m \u001b[1;32mnot\u001b[0m \u001b[0mlist\u001b[0m \u001b[1;32melse\u001b[0m \u001b[0mself\u001b[0m\u001b[1;33m.\u001b[0m\u001b[0mmodel\u001b[0m\u001b[1;33m.\u001b[0m\u001b[0minput\u001b[0m\u001b[1;33m\u001b[0m\u001b[1;33m\u001b[0m\u001b[0m\n\u001b[0;32m    192\u001b[0m         \u001b[0mtrainable_model\u001b[0m \u001b[1;33m=\u001b[0m \u001b[0mModel\u001b[0m\u001b[1;33m(\u001b[0m\u001b[0minputs\u001b[0m\u001b[1;33m=\u001b[0m\u001b[0mins\u001b[0m \u001b[1;33m+\u001b[0m \u001b[1;33m[\u001b[0m\u001b[0my_true\u001b[0m\u001b[1;33m,\u001b[0m \u001b[0mmask\u001b[0m\u001b[1;33m]\u001b[0m\u001b[1;33m,\u001b[0m \u001b[0moutputs\u001b[0m\u001b[1;33m=\u001b[0m\u001b[1;33m[\u001b[0m\u001b[0mloss_out\u001b[0m\u001b[1;33m,\u001b[0m \u001b[0my_pred\u001b[0m\u001b[1;33m]\u001b[0m\u001b[1;33m)\u001b[0m\u001b[1;33m\u001b[0m\u001b[1;33m\u001b[0m\u001b[0m\n",
      "\u001b[1;32m~\\anaconda3\\envs\\gpu1\\lib\\site-packages\\tensorflow_core\\python\\keras\\engine\\base_layer.py\u001b[0m in \u001b[0;36m__call__\u001b[1;34m(self, inputs, *args, **kwargs)\u001b[0m\n\u001b[0;32m    803\u001b[0m               \u001b[0mkwargs\u001b[0m\u001b[1;33m.\u001b[0m\u001b[0mpop\u001b[0m\u001b[1;33m(\u001b[0m\u001b[1;34m'mask'\u001b[0m\u001b[1;33m)\u001b[0m\u001b[1;33m\u001b[0m\u001b[1;33m\u001b[0m\u001b[0m\n\u001b[0;32m    804\u001b[0m             inputs, outputs = self._set_connectivity_metadata_(\n\u001b[1;32m--> 805\u001b[1;33m                 inputs, outputs, args, kwargs)\n\u001b[0m\u001b[0;32m    806\u001b[0m           \u001b[0mself\u001b[0m\u001b[1;33m.\u001b[0m\u001b[0m_handle_activity_regularization\u001b[0m\u001b[1;33m(\u001b[0m\u001b[0minputs\u001b[0m\u001b[1;33m,\u001b[0m \u001b[0moutputs\u001b[0m\u001b[1;33m)\u001b[0m\u001b[1;33m\u001b[0m\u001b[1;33m\u001b[0m\u001b[0m\n\u001b[0;32m    807\u001b[0m           \u001b[0mself\u001b[0m\u001b[1;33m.\u001b[0m\u001b[0m_set_mask_metadata\u001b[0m\u001b[1;33m(\u001b[0m\u001b[0minputs\u001b[0m\u001b[1;33m,\u001b[0m \u001b[0moutputs\u001b[0m\u001b[1;33m,\u001b[0m \u001b[0minput_masks\u001b[0m\u001b[1;33m)\u001b[0m\u001b[1;33m\u001b[0m\u001b[1;33m\u001b[0m\u001b[0m\n",
      "\u001b[1;32m~\\anaconda3\\envs\\gpu1\\lib\\site-packages\\tensorflow_core\\python\\keras\\engine\\base_layer.py\u001b[0m in \u001b[0;36m_set_connectivity_metadata_\u001b[1;34m(self, inputs, outputs, args, kwargs)\u001b[0m\n\u001b[0;32m   2012\u001b[0m     \u001b[1;31m# This updates the layer history of the output tensor(s).\u001b[0m\u001b[1;33m\u001b[0m\u001b[1;33m\u001b[0m\u001b[1;33m\u001b[0m\u001b[0m\n\u001b[0;32m   2013\u001b[0m     self._add_inbound_node(\n\u001b[1;32m-> 2014\u001b[1;33m         input_tensors=inputs, output_tensors=outputs, arguments=arguments)\n\u001b[0m\u001b[0;32m   2015\u001b[0m     \u001b[1;32mreturn\u001b[0m \u001b[0minputs\u001b[0m\u001b[1;33m,\u001b[0m \u001b[0moutputs\u001b[0m\u001b[1;33m\u001b[0m\u001b[1;33m\u001b[0m\u001b[0m\n\u001b[0;32m   2016\u001b[0m \u001b[1;33m\u001b[0m\u001b[0m\n",
      "\u001b[1;32m~\\anaconda3\\envs\\gpu1\\lib\\site-packages\\tensorflow_core\\python\\keras\\engine\\base_layer.py\u001b[0m in \u001b[0;36m_add_inbound_node\u001b[1;34m(self, input_tensors, output_tensors, arguments)\u001b[0m\n\u001b[0;32m   2028\u001b[0m     \"\"\"\n\u001b[0;32m   2029\u001b[0m     inbound_layers = nest.map_structure(lambda t: t._keras_history.layer,\n\u001b[1;32m-> 2030\u001b[1;33m                                         input_tensors)\n\u001b[0m\u001b[0;32m   2031\u001b[0m     node_indices = nest.map_structure(lambda t: t._keras_history.node_index,\n\u001b[0;32m   2032\u001b[0m                                       input_tensors)\n",
      "\u001b[1;32m~\\anaconda3\\envs\\gpu1\\lib\\site-packages\\tensorflow_core\\python\\util\\nest.py\u001b[0m in \u001b[0;36mmap_structure\u001b[1;34m(func, *structure, **kwargs)\u001b[0m\n\u001b[0;32m    566\u001b[0m \u001b[1;33m\u001b[0m\u001b[0m\n\u001b[0;32m    567\u001b[0m   return pack_sequence_as(\n\u001b[1;32m--> 568\u001b[1;33m       \u001b[0mstructure\u001b[0m\u001b[1;33m[\u001b[0m\u001b[1;36m0\u001b[0m\u001b[1;33m]\u001b[0m\u001b[1;33m,\u001b[0m \u001b[1;33m[\u001b[0m\u001b[0mfunc\u001b[0m\u001b[1;33m(\u001b[0m\u001b[1;33m*\u001b[0m\u001b[0mx\u001b[0m\u001b[1;33m)\u001b[0m \u001b[1;32mfor\u001b[0m \u001b[0mx\u001b[0m \u001b[1;32min\u001b[0m \u001b[0mentries\u001b[0m\u001b[1;33m]\u001b[0m\u001b[1;33m,\u001b[0m\u001b[1;33m\u001b[0m\u001b[1;33m\u001b[0m\u001b[0m\n\u001b[0m\u001b[0;32m    569\u001b[0m       expand_composites=expand_composites)\n\u001b[0;32m    570\u001b[0m \u001b[1;33m\u001b[0m\u001b[0m\n",
      "\u001b[1;32m~\\anaconda3\\envs\\gpu1\\lib\\site-packages\\tensorflow_core\\python\\util\\nest.py\u001b[0m in \u001b[0;36m<listcomp>\u001b[1;34m(.0)\u001b[0m\n\u001b[0;32m    566\u001b[0m \u001b[1;33m\u001b[0m\u001b[0m\n\u001b[0;32m    567\u001b[0m   return pack_sequence_as(\n\u001b[1;32m--> 568\u001b[1;33m       \u001b[0mstructure\u001b[0m\u001b[1;33m[\u001b[0m\u001b[1;36m0\u001b[0m\u001b[1;33m]\u001b[0m\u001b[1;33m,\u001b[0m \u001b[1;33m[\u001b[0m\u001b[0mfunc\u001b[0m\u001b[1;33m(\u001b[0m\u001b[1;33m*\u001b[0m\u001b[0mx\u001b[0m\u001b[1;33m)\u001b[0m \u001b[1;32mfor\u001b[0m \u001b[0mx\u001b[0m \u001b[1;32min\u001b[0m \u001b[0mentries\u001b[0m\u001b[1;33m]\u001b[0m\u001b[1;33m,\u001b[0m\u001b[1;33m\u001b[0m\u001b[1;33m\u001b[0m\u001b[0m\n\u001b[0m\u001b[0;32m    569\u001b[0m       expand_composites=expand_composites)\n\u001b[0;32m    570\u001b[0m \u001b[1;33m\u001b[0m\u001b[0m\n",
      "\u001b[1;32m~\\anaconda3\\envs\\gpu1\\lib\\site-packages\\tensorflow_core\\python\\keras\\engine\\base_layer.py\u001b[0m in \u001b[0;36m<lambda>\u001b[1;34m(t)\u001b[0m\n\u001b[0;32m   2027\u001b[0m             \u001b[0;31m`\u001b[0m\u001b[0mcall\u001b[0m\u001b[0;31m`\u001b[0m \u001b[0mmethod\u001b[0m \u001b[0mof\u001b[0m \u001b[0mthe\u001b[0m \u001b[0mlayer\u001b[0m \u001b[0mat\u001b[0m \u001b[0mthe\u001b[0m \u001b[0mcall\u001b[0m \u001b[0mthat\u001b[0m \u001b[0mcreated\u001b[0m \u001b[0mthe\u001b[0m \u001b[0mnode\u001b[0m\u001b[1;33m.\u001b[0m\u001b[1;33m\u001b[0m\u001b[1;33m\u001b[0m\u001b[0m\n\u001b[0;32m   2028\u001b[0m     \"\"\"\n\u001b[1;32m-> 2029\u001b[1;33m     inbound_layers = nest.map_structure(lambda t: t._keras_history.layer,\n\u001b[0m\u001b[0;32m   2030\u001b[0m                                         input_tensors)\n\u001b[0;32m   2031\u001b[0m     node_indices = nest.map_structure(lambda t: t._keras_history.node_index,\n",
      "\u001b[1;31mAttributeError\u001b[0m: 'tuple' object has no attribute 'layer'"
     ]
    }
   ],
   "source": [
    "dqn = build_agent(model, actions)\n",
    "dqn.compile(Adam(lr=1e-3), metrics=['mae'])\n",
    "dqn.fit(env, nb_steps=50000, visualize=False, verbose=1)"
   ]
  },
  {
   "cell_type": "code",
   "execution_count": 58,
   "id": "00027bd9",
   "metadata": {},
   "outputs": [],
   "source": []
  },
  {
   "cell_type": "code",
   "execution_count": null,
   "id": "1465705c",
   "metadata": {},
   "outputs": [],
   "source": []
  }
 ],
 "metadata": {
  "kernelspec": {
   "display_name": "Python 3",
   "language": "python",
   "name": "python3"
  },
  "language_info": {
   "codemirror_mode": {
    "name": "ipython",
    "version": 3
   },
   "file_extension": ".py",
   "mimetype": "text/x-python",
   "name": "python",
   "nbconvert_exporter": "python",
   "pygments_lexer": "ipython3",
   "version": "3.6.13"
  }
 },
 "nbformat": 4,
 "nbformat_minor": 5
}
